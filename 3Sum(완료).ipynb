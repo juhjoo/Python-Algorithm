{
  "nbformat": 4,
  "nbformat_minor": 0,
  "metadata": {
    "colab": {
      "name": "3Sum(완료).ipynb",
      "provenance": [],
      "collapsed_sections": [],
      "authorship_tag": "ABX9TyPyC4VJd622wt44YI7ATOK6",
      "include_colab_link": true
    },
    "kernelspec": {
      "name": "python3",
      "display_name": "Python 3"
    },
    "language_info": {
      "name": "python"
    }
  },
  "cells": [
    {
      "cell_type": "markdown",
      "metadata": {
        "id": "view-in-github",
        "colab_type": "text"
      },
      "source": [
        "<a href=\"https://colab.research.google.com/github/juhjoo/Python-Algorithm/blob/main/3Sum(%EC%99%84%EB%A3%8C).ipynb\" target=\"_parent\"><img src=\"https://colab.research.google.com/assets/colab-badge.svg\" alt=\"Open In Colab\"/></a>"
      ]
    },
    {
      "cell_type": "code",
      "source": [
        "nums = [-1,0,1,2,-1,-4]\n",
        "seen = []\n",
        "target = 0\n",
        "nums.sort()\n",
        "\n",
        "for i in range(0, len(nums) - 1) :\n",
        "  \n",
        "  left = i + 1 \n",
        "  right = len(nums) - 1\n",
        "  while left < right :\n",
        "    target = nums[i] + nums[left] + nums[right] \n",
        "    if target == 0 :\n",
        "      seen.append([nums[i], nums[left], nums[right]])\n",
        "      while left < right and nums[left] == nums[left+1] :\n",
        "        left = left + 1\n",
        "      while left < right and nums[right] == nums[right-1] :\n",
        "        right = right - 1\n",
        "      left = left + 1\n",
        "      right = right - 1\n",
        "    elif target < 0 :\n",
        "      left = left + 1\n",
        "    elif target > 0 :\n",
        "      right = right - 1\n",
        "result = []\n",
        "[result.append(x) for x in seen if x not in result]"
      ],
      "metadata": {
        "colab": {
          "base_uri": "https://localhost:8080/"
        },
        "id": "M2mspP6ozHTu",
        "outputId": "8b09d4ed-be4a-4402-8aa6-1ce84a7834b2"
      },
      "execution_count": null,
      "outputs": [
        {
          "output_type": "execute_result",
          "data": {
            "text/plain": [
              "[None, None]"
            ]
          },
          "metadata": {},
          "execution_count": 46
        }
      ]
    },
    {
      "cell_type": "code",
      "source": [
        "result"
      ],
      "metadata": {
        "colab": {
          "base_uri": "https://localhost:8080/"
        },
        "id": "L6efE6gyLm0u",
        "outputId": "5352ca5b-9e32-4764-ef95-a7e82cde8e5c"
      },
      "execution_count": null,
      "outputs": [
        {
          "output_type": "execute_result",
          "data": {
            "text/plain": [
              "[[-1, -1, 2], [-1, 0, 1]]"
            ]
          },
          "metadata": {},
          "execution_count": 48
        }
      ]
    },
    {
      "cell_type": "code",
      "source": [
        "class Solution:\n",
        "    def threeSum(self, nums: List[int]) -> List[List[int]]:\n",
        "        seen = []\n",
        "        nums.sort()\n",
        "\n",
        "        for i in range(0, len(nums) - 1) :\n",
        "\n",
        "          left = i + 1 \n",
        "          right = len(nums) - 1\n",
        "          while left < right :\n",
        "            target = nums[i] + nums[left] + nums[right] \n",
        "            if target == 0 :\n",
        "              seen.append([nums[i], nums[left], nums[right]])\n",
        "              while left < right and nums[left] == nums[left+1] :\n",
        "                left = left + 1\n",
        "              while left < right and nums[right] == nums[right-1] :\n",
        "                right = right - 1\n",
        "              left = left + 1\n",
        "              right = right - 1\n",
        "            elif target < 0 :\n",
        "              left = left + 1\n",
        "            elif target > 0 :\n",
        "              right = right - 1\n",
        "        result = []\n",
        "        [result.append(x) for x in seen if x not in result]\n",
        "        return result\n",
        "        \n",
        "\n"
      ],
      "metadata": {
        "colab": {
          "base_uri": "https://localhost:8080/"
        },
        "id": "b9NYWcF52Agp",
        "outputId": "ab2eea44-f4fd-4f6c-b7ab-357321e7c9fa"
      },
      "execution_count": null,
      "outputs": [
        {
          "output_type": "execute_result",
          "data": {
            "text/plain": [
              "[[-2, 0, 2], [-2, 1, 1]]"
            ]
          },
          "metadata": {},
          "execution_count": 58
        }
      ]
    },
    {
      "cell_type": "code",
      "source": [
        "hash.values()"
      ],
      "metadata": {
        "id": "_RJzKP8uzJ80"
      },
      "execution_count": null,
      "outputs": []
    },
    {
      "cell_type": "code",
      "source": [
        "hash[1]"
      ],
      "metadata": {
        "colab": {
          "base_uri": "https://localhost:8080/"
        },
        "id": "wAskuHcHzZZp",
        "outputId": "b7a48cab-59b1-46e9-dc5a-6a3072c926c2"
      },
      "execution_count": null,
      "outputs": [
        {
          "output_type": "execute_result",
          "data": {
            "text/plain": [
              "0"
            ]
          },
          "metadata": {},
          "execution_count": 3
        }
      ]
    },
    {
      "cell_type": "code",
      "source": [
        "        hash = {i : key for i, key in enumerate(nums)}\n",
        "        #hash_sorted = sorted(hash.items(), key = lambda item: item[1])\n",
        "        #print(hash_sorted)"
      ],
      "metadata": {
        "colab": {
          "base_uri": "https://localhost:8080/",
          "height": 174
        },
        "id": "JxGSd9TNyIvt",
        "outputId": "8eeb799f-d844-4636-f1d3-2305be9d252f"
      },
      "execution_count": null,
      "outputs": [
        {
          "output_type": "error",
          "ename": "AttributeError",
          "evalue": "ignored",
          "traceback": [
            "\u001b[0;31m---------------------------------------------------------------------------\u001b[0m",
            "\u001b[0;31mAttributeError\u001b[0m                            Traceback (most recent call last)",
            "\u001b[0;32m<ipython-input-7-2872025bc7fe>\u001b[0m in \u001b[0;36m<module>\u001b[0;34m()\u001b[0m\n\u001b[0;32m----> 1\u001b[0;31m \u001b[0mprint\u001b[0m\u001b[0;34m(\u001b[0m\u001b[0mhash\u001b[0m\u001b[0;34m.\u001b[0m\u001b[0mindex\u001b[0m\u001b[0;34m(\u001b[0m\u001b[0;34m-\u001b[0m\u001b[0;36m1\u001b[0m\u001b[0;34m)\u001b[0m\u001b[0;34m)\u001b[0m\u001b[0;34m\u001b[0m\u001b[0;34m\u001b[0m\u001b[0m\n\u001b[0m",
            "\u001b[0;31mAttributeError\u001b[0m: 'dict' object has no attribute 'index'"
          ]
        }
      ]
    },
    {
      "cell_type": "code",
      "source": [
        "hash2 = sorted(hash.items() , reverse = True)\n",
        "hash2"
      ],
      "metadata": {
        "colab": {
          "base_uri": "https://localhost:8080/"
        },
        "id": "-yWR-7ABzgF5",
        "outputId": "2017c029-6b89-4296-b2cd-bab597a3a49e"
      },
      "execution_count": null,
      "outputs": [
        {
          "output_type": "execute_result",
          "data": {
            "text/plain": [
              "[(5, -4), (4, -1), (3, 2), (2, 1), (1, 0), (0, -1)]"
            ]
          },
          "metadata": {},
          "execution_count": 4
        }
      ]
    },
    {
      "cell_type": "code",
      "source": [
        "for key, value in hash.items() :\n",
        "  print(key)\n",
        "  print(value)"
      ],
      "metadata": {
        "colab": {
          "base_uri": "https://localhost:8080/"
        },
        "id": "NUgyuN1qzqo4",
        "outputId": "8091987f-3e02-4549-dcfa-728325c53d1d"
      },
      "execution_count": null,
      "outputs": [
        {
          "output_type": "stream",
          "name": "stdout",
          "text": [
            "0\n",
            "-1\n",
            "1\n",
            "0\n",
            "2\n",
            "1\n",
            "3\n",
            "2\n",
            "4\n",
            "-1\n",
            "5\n",
            "-4\n"
          ]
        }
      ]
    },
    {
      "cell_type": "code",
      "source": [
        "class Solution:\n",
        "    def threeSum(self, nums: List[int]) -> List[List[int]]:\n",
        "        seen = []\n",
        "        target = 0\n",
        "        hash = {i : key for i, key in enumerate(nums)}\n",
        "        print(hash)\n",
        "        for key, value in hash.items() :\n",
        "            for i in range(key+1, len(nums)) :\n",
        "                a = target - value - hash(i) - hash(i + 1)\n",
        "                if a == 0 :\n",
        "                    seen.append((hash(key)))\n",
        "                seen[key] = value\n",
        "            "
      ],
      "metadata": {
        "id": "bpRQqIlr10h6"
      },
      "execution_count": null,
      "outputs": []
    }
  ]
}